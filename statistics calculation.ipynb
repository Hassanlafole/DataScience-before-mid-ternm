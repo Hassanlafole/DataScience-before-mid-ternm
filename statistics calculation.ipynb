{
 "cells": [
  {
   "cell_type": "code",
   "execution_count": 1,
   "id": "39f09c97",
   "metadata": {},
   "outputs": [],
   "source": [
    "import numpy as np"
   ]
  },
  {
   "cell_type": "code",
   "execution_count": null,
   "id": "6eb8609f",
   "metadata": {},
   "outputs": [],
   "source": []
  },
  {
   "cell_type": "code",
   "execution_count": 3,
   "id": "cb1b111e",
   "metadata": {},
   "outputs": [],
   "source": [
    "#option\n",
    "salary= np.array([10,11, 11, 15 , 15 ,15, 19, 20, 21, 21,22,22,24,25])"
   ]
  },
  {
   "cell_type": "markdown",
   "id": "fad7eebf",
   "metadata": {},
   "source": [
    "### Statistical Calculations"
   ]
  },
  {
   "cell_type": "code",
   "execution_count": 6,
   "id": "0a061da2",
   "metadata": {},
   "outputs": [],
   "source": [
    "mean = np.mean(salary)\n",
    "median = np.median(salary)\n",
    "variance = np.var(salary)\n",
    "std = np.std(salary) #standard deviation\n",
    "salRange = np.ptp(salary)\n",
    "Q1 = np.percentile(salary,25)\n",
    "Q2 = np.percentile(salary,50)\n",
    "Q3 = np.percentile(salary,75)"
   ]
  },
  {
   "cell_type": "code",
   "execution_count": 12,
   "id": "2c2c048b",
   "metadata": {},
   "outputs": [
    {
     "name": "stdout",
     "output_type": "stream",
     "text": [
      "mean is 17.9 , median is 19.5, variance is 23.49\n"
     ]
    }
   ],
   "source": [
    "print(f\"mean is {round(mean,1)} , median is {median}, variance is {round(variance,2)}\")"
   ]
  },
  {
   "cell_type": "code",
   "execution_count": 7,
   "id": "83b21721",
   "metadata": {},
   "outputs": [
    {
     "name": "stdout",
     "output_type": "stream",
     "text": [
      "quartile #1 15.0, standard deviation is 4.85\n"
     ]
    }
   ],
   "source": [
    "print(f\"quartile #1 {Q1}, standard deviation is {round(std, 2)}\")"
   ]
  },
  {
   "cell_type": "code",
   "execution_count": 10,
   "id": "8275b77e",
   "metadata": {},
   "outputs": [
    {
     "name": "stdout",
     "output_type": "stream",
     "text": [
      "interquartile is 6.75\n"
     ]
    }
   ],
   "source": [
    "print(f\"interquartile is {Q3-Q1}\")"
   ]
  },
  {
   "cell_type": "markdown",
   "id": "d7fdd07e",
   "metadata": {},
   "source": [
    "### mode calculation"
   ]
  },
  {
   "cell_type": "code",
   "execution_count": 13,
   "id": "0704695c",
   "metadata": {},
   "outputs": [],
   "source": [
    "import statistics as stats"
   ]
  },
  {
   "cell_type": "code",
   "execution_count": 14,
   "id": "27707f9b",
   "metadata": {},
   "outputs": [],
   "source": [
    "salarymode = stats.mode(salary)"
   ]
  },
  {
   "cell_type": "code",
   "execution_count": 15,
   "id": "1d62966f",
   "metadata": {},
   "outputs": [
    {
     "data": {
      "text/plain": [
       "15"
      ]
     },
     "execution_count": 15,
     "metadata": {},
     "output_type": "execute_result"
    }
   ],
   "source": [
    "salarymode"
   ]
  },
  {
   "cell_type": "code",
   "execution_count": null,
   "id": "0ad4c660",
   "metadata": {},
   "outputs": [],
   "source": []
  }
 ],
 "metadata": {
  "kernelspec": {
   "display_name": "Python 3 (ipykernel)",
   "language": "python",
   "name": "python3"
  },
  "language_info": {
   "codemirror_mode": {
    "name": "ipython",
    "version": 3
   },
   "file_extension": ".py",
   "mimetype": "text/x-python",
   "name": "python",
   "nbconvert_exporter": "python",
   "pygments_lexer": "ipython3",
   "version": "3.11.4"
  }
 },
 "nbformat": 4,
 "nbformat_minor": 5
}
