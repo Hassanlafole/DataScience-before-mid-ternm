{
 "cells": [
  {
   "cell_type": "markdown",
   "id": "8175ff6f",
   "metadata": {},
   "source": [
    "## Solve the following student marks for a given parameters"
   ]
  },
  {
   "cell_type": "code",
   "execution_count": 1,
   "id": "7d47a654",
   "metadata": {},
   "outputs": [],
   "source": [
    "#mean\n",
    "#median\n",
    "#mode\n",
    "#variance\n",
    "#standard deviation\n",
    "#Q1,Q2,Q3\n",
    "#Range\n",
    "#marks = [51,55,60,62,70,71,80,85,88,90,92,92]"
   ]
  },
  {
   "cell_type": "code",
   "execution_count": 2,
   "id": "91133ab7",
   "metadata": {},
   "outputs": [],
   "source": [
    "import numpy as nump"
   ]
  },
  {
   "cell_type": "code",
   "execution_count": 3,
   "id": "5235f329",
   "metadata": {},
   "outputs": [],
   "source": [
    "marks = nump.array([51,55,60,62,70,71,80,85,88,90,92,92])"
   ]
  },
  {
   "cell_type": "code",
   "execution_count": 5,
   "id": "57dd926f",
   "metadata": {},
   "outputs": [],
   "source": [
    "mean = nump.mean(marks)\n",
    "median = nump.median(marks)\n",
    "variance = nump.var(marks)\n",
    "std = nump.std(marks)\n",
    "Range = nump.ptp(marks)\n",
    "Q1= nump.percentile(marks, 25)\n",
    "Q2= nump.percentile(marks, 50)\n",
    "Q3= nump.percentile(marks, 75)"
   ]
  },
  {
   "cell_type": "code",
   "execution_count": 9,
   "id": "52eae3be",
   "metadata": {},
   "outputs": [
    {
     "name": "stdout",
     "output_type": "stream",
     "text": [
      " mean is 74.7 median is 76, variance is 208.89, std is 14.45, and Range is 41\n"
     ]
    }
   ],
   "source": [
    "print(f\" mean is {round(mean,1)} median is {round(median)}, variance is {round(variance,2)}, std is {round(std,2)}, and Range is {Range}\")"
   ]
  },
  {
   "cell_type": "code",
   "execution_count": 10,
   "id": "4aacb654",
   "metadata": {},
   "outputs": [
    {
     "name": "stdout",
     "output_type": "stream",
     "text": [
      "Q1 is 61.5, Q2 is 75.5, and Q3 is 88.5\n"
     ]
    }
   ],
   "source": [
    "print(f\"Q1 is {Q1}, Q2 is {Q2}, and Q3 is {Q3}\")"
   ]
  },
  {
   "cell_type": "code",
   "execution_count": 11,
   "id": "953aec5c",
   "metadata": {},
   "outputs": [
    {
     "name": "stdout",
     "output_type": "stream",
     "text": [
      "interquartile is 27.0\n"
     ]
    }
   ],
   "source": [
    "print(f\"interquartile is {Q3-Q1}\")"
   ]
  },
  {
   "cell_type": "markdown",
   "id": "0fa51afd",
   "metadata": {},
   "source": [
    "## mode \n"
   ]
  },
  {
   "cell_type": "code",
   "execution_count": 12,
   "id": "fa87c08b",
   "metadata": {},
   "outputs": [],
   "source": [
    "import statistic as stats"
   ]
  },
  {
   "cell_type": "code",
   "execution_count": 13,
   "id": "1173efdc",
   "metadata": {},
   "outputs": [],
   "source": [
    "marksmode = stats.mode(marks)"
   ]
  },
  {
   "cell_type": "code",
   "execution_count": 15,
   "id": "b6cf8a07",
   "metadata": {},
   "outputs": [
    {
     "data": {
      "text/plain": [
       "92"
      ]
     },
     "execution_count": 15,
     "metadata": {},
     "output_type": "execute_result"
    }
   ],
   "source": [
    "marksmode"
   ]
  },
  {
   "cell_type": "code",
   "execution_count": null,
   "id": "60df891d",
   "metadata": {},
   "outputs": [],
   "source": []
  }
 ],
 "metadata": {
  "kernelspec": {
   "display_name": "Python 3 (ipykernel)",
   "language": "python",
   "name": "python3"
  },
  "language_info": {
   "codemirror_mode": {
    "name": "ipython",
    "version": 3
   },
   "file_extension": ".py",
   "mimetype": "text/x-python",
   "name": "python",
   "nbconvert_exporter": "python",
   "pygments_lexer": "ipython3",
   "version": "3.11.4"
  }
 },
 "nbformat": 4,
 "nbformat_minor": 5
}
