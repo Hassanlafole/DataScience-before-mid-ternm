{
 "cells": [
  {
   "cell_type": "markdown",
   "id": "38d38e95",
   "metadata": {},
   "source": [
    "# What is the difference b/w Data Science and Statistics ?"
   ]
  },
  {
   "cell_type": "markdown",
   "id": "dd640016",
   "metadata": {},
   "source": [
    "Here are the key differences between Data Science and Statistics:\n",
    "##### 1.Focus and Approach\n",
    "-Statistics is a mathematically-based field that seeks to collect and interpret quantitative data. Statisticians use mathematical models to quantify relationships between variables and outcomes and make predictions based on those relationships\n",
    "-Data Science is a multidisciplinary field that involves the collection, organization, analysis, and visualization of large amounts of data. Data scientists use scientific methods, processes, and systems to extract knowledge from data in a range of forms. They use computer science, algorithms, and machine learning to a greater degree than statisticians.\n",
    "#### 2.Skills Required\n",
    "-Data Science requires skills in programming, computer science, machine learning, and creating algorithms.\n",
    "-Statisticians generally have very strong math skills but are not educated in computer science to the same degree as data scientists.\n",
    "#### 3.End Goals\n",
    "-Data Science problems often relate to making predictions and optimizing search of large databases.\n",
    "-The problems studied by Statistics are more often focused on drawing conclusions about the world at large. This involves working out how best to collect data and measure things, and how to quantify uncertainty about these measurements.\n",
    "#### 4.Backgrounds of the People Working in the Fields\n",
    "-Data scientists tend to come from engineering backgrounds.\n",
    "-Statisticians are usually trained by math departments.\n",
    "#### 5.Language\n",
    "-Data Science involves the collection, organization, analysis, and visualization of large amounts of data.\n",
    "-Statistics is the study of numerical or quantitative data to make predictions or draw conclusions about a population.\n",
    "\n",
    "In summary, while there is a great deal of overlap between the fields of Data Science and Statistics, they differ in their focus and approach, skills required, end goals, backgrounds of the people working in the fields, and language.\n"
   ]
  }
 ],
 "metadata": {
  "kernelspec": {
   "display_name": "Python 3 (ipykernel)",
   "language": "python",
   "name": "python3"
  },
  "language_info": {
   "codemirror_mode": {
    "name": "ipython",
    "version": 3
   },
   "file_extension": ".py",
   "mimetype": "text/x-python",
   "name": "python",
   "nbconvert_exporter": "python",
   "pygments_lexer": "ipython3",
   "version": "3.11.4"
  }
 },
 "nbformat": 4,
 "nbformat_minor": 5
}
